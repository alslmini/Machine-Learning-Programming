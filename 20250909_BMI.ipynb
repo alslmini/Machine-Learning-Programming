{
  "nbformat": 4,
  "nbformat_minor": 0,
  "metadata": {
    "colab": {
      "provenance": [],
      "authorship_tag": "ABX9TyPt3MPwtk1kxZaCX6kVx6So",
      "include_colab_link": true
    },
    "kernelspec": {
      "name": "python3",
      "display_name": "Python 3"
    },
    "language_info": {
      "name": "python"
    }
  },
  "cells": [
    {
      "cell_type": "markdown",
      "metadata": {
        "id": "view-in-github",
        "colab_type": "text"
      },
      "source": [
        "<a href=\"https://colab.research.google.com/github/alslmini/Machine-Learning-Programming/blob/alslmini-patch-1/20250909_BMI.ipynb\" target=\"_parent\"><img src=\"https://colab.research.google.com/assets/colab-badge.svg\" alt=\"Open In Colab\"/></a>"
      ]
    },
    {
      "cell_type": "markdown",
      "source": [
        "### BMI 지수 예측하기"
      ],
      "metadata": {
        "id": "WY1a8e295YVj"
      }
    },
    {
      "cell_type": "code",
      "source": [
        "from google.colab import drive\n",
        "drive.mount('/content/drive')"
      ],
      "metadata": {
        "colab": {
          "base_uri": "https://localhost:8080/"
        },
        "id": "Pdf4UnIx5bK-",
        "outputId": "8ed41ff9-fa77-4c3e-a5fa-5799661a9244"
      },
      "execution_count": 1,
      "outputs": [
        {
          "output_type": "stream",
          "name": "stdout",
          "text": [
            "Mounted at /content/drive\n"
          ]
        }
      ]
    },
    {
      "cell_type": "code",
      "execution_count": 2,
      "metadata": {
        "colab": {
          "base_uri": "https://localhost:8080/"
        },
        "id": "YX4gboRu4gQU",
        "outputId": "ca3de595-b2ad-4e24-a758-0286f620c5ab"
      },
      "outputs": [
        {
          "output_type": "stream",
          "name": "stdout",
          "text": [
            "=== Test Mean Squared Error ===\n",
            "Decision Tree : 104.1275\n",
            "Random Forest : 46.7562\n"
          ]
        }
      ],
      "source": [
        "import pandas as pd\n",
        "from sklearn.model_selection import train_test_split\n",
        "from sklearn.tree import DecisionTreeRegressor # 회귀 모델로 변경\n",
        "from sklearn.ensemble import RandomForestRegressor # 회귀 모델로 변경\n",
        "from sklearn.metrics import mean_squared_error # 회귀 평가 지표로 변경\n",
        "\n",
        "\n",
        "df = pd.read_csv(\"/content/drive/MyDrive/Colab Notebooks/Machine-Learning/20250909/data/diabetes.csv\", header=0).dropna()\n",
        "\n",
        "# 'BMI'를 라벨(y)로 설정하고, 특징(X)에서 'BMI'와 'Outcome' 제거\n",
        "X = df.drop(columns=[\"Outcome\", \"BMI\"])\n",
        "y = df[\"BMI\"]\n",
        "\n",
        "\n",
        "\n",
        "X_train, X_test, y_train, y_test = train_test_split(\n",
        "    X, y, test_size=0.2, random_state=42 # 회귀 문제이므로 stratify 제거\n",
        ")\n",
        "\n",
        "# 회귀 모델 초기화\n",
        "dt = DecisionTreeRegressor(random_state=42)\n",
        "rf = RandomForestRegressor(n_estimators=200, random_state=42)\n",
        "\n",
        "# 모델 학습\n",
        "dt.fit(X_train, y_train)\n",
        "rf.fit(X_train, y_train)\n",
        "\n",
        "\n",
        "# 예측 및 평가 (평균 제곱 오차 사용)\n",
        "dt_mse = mean_squared_error(y_test, dt.predict(X_test))\n",
        "rf_mse = mean_squared_error(y_test, rf.predict(X_test))\n",
        "\n",
        "print(\"=== Test Mean Squared Error ===\")\n",
        "print(f\"Decision Tree : {dt_mse:.4f}\")\n",
        "print(f\"Random Forest : {rf_mse:.4f}\")"
      ]
    }
  ]
}